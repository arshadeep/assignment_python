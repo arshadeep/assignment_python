{
 "cells": [
  {
   "cell_type": "code",
   "execution_count": 5,
   "metadata": {},
   "outputs": [
    {
     "name": "stdout",
     "output_type": "stream",
     "text": [
      "-4\n"
     ]
    }
   ],
   "source": [
    "def myreduce(fn,seq):\n",
    "    f=seq[0]\n",
    "    for i in seq[1:]:\n",
    "        f=fn(f,i)\n",
    "    return f\n",
    "    \n",
    "    \n",
    "def subtract(m,n):\n",
    "    return m-n\n",
    "seq=[5,4,3,2]\n",
    "\n",
    "print(myreduce(subtract,seq))"
   ]
  },
  {
   "cell_type": "code",
   "execution_count": 22,
   "metadata": {},
   "outputs": [
    {
     "data": {
      "text/plain": [
       "[2, 6, 8]"
      ]
     },
     "execution_count": 22,
     "metadata": {},
     "output_type": "execute_result"
    }
   ],
   "source": [
    "def myfilter(fn,seq):\n",
    "    li=[]\n",
    "    for i in seq:\n",
    "        if fn(i):\n",
    "            li.append(i)\n",
    "    return li\n",
    "    \n",
    "    \n",
    "    \n",
    "def even(a):\n",
    "    if a%2==0:\n",
    "        return True\n",
    "\n",
    "a=[2,3,5,7,6,8]\n",
    "list(myfilter(even,a))"
   ]
  },
  {
   "cell_type": "code",
   "execution_count": 3,
   "metadata": {},
   "outputs": [
    {
     "name": "stdout",
     "output_type": "stream",
     "text": [
      "['x', 'xx', 'xxx', 'xxxx', 'y', 'yy', 'yyy', 'yyyy', 'z', 'zz', 'zzz', 'zzzz']\n"
     ]
    }
   ],
   "source": [
    "l=['x','y','z']\n",
    "for i in range(len(l)):\n",
    "    l.append(l[i]*2)\n",
    "    l.append(l[i]*3)\n",
    "    l.append(l[i]*4)\n",
    "    \n",
    "print(sorted(l))"
   ]
  },
  {
   "cell_type": "code",
   "execution_count": 6,
   "metadata": {},
   "outputs": [
    {
     "name": "stdout",
     "output_type": "stream",
     "text": [
      "['x', 'y', 'z', 'xx', 'yy', 'zz', 'xxx', 'yyy', 'zzz', 'xxxx', 'yyyy', 'zzzz']\n"
     ]
    }
   ],
   "source": [
    "l=['x','y','z']\n",
    "for i in range(len(l)):\n",
    "    l.append(l[i]*2)\n",
    "for i in range(len(l)-3):\n",
    "    l.append(l[i]*3)\n",
    "for i in range(len(l)-6):\n",
    "    l.append(l[i]*4)\n",
    "print(l)"
   ]
  },
  {
   "cell_type": "code",
   "execution_count": 72,
   "metadata": {},
   "outputs": [
    {
     "name": "stdout",
     "output_type": "stream",
     "text": [
      "[[2], [3], [4], [3], [4], [5], [4], [5], [6]]\n",
      "[(1, 1), (2, 1), (3, 1), (1, 2), (2, 2), (3, 2), (1, 3), (2, 3), (3, 3)]\n"
     ]
    }
   ],
   "source": [
    "print([[x+y] for x in range(2,5) for y in range(3)])\n",
    "print([(z,y) for x in range(1) for y in range(1,4) for z in range(1,4)])\n",
    "\n"
   ]
  },
  {
   "cell_type": "code",
   "execution_count": null,
   "metadata": {},
   "outputs": [],
   "source": []
  },
  {
   "cell_type": "code",
   "execution_count": null,
   "metadata": {},
   "outputs": [],
   "source": []
  },
  {
   "cell_type": "code",
   "execution_count": null,
   "metadata": {},
   "outputs": [],
   "source": []
  }
 ],
 "metadata": {
  "kernelspec": {
   "display_name": "Python 3",
   "language": "python",
   "name": "python3"
  },
  "language_info": {
   "codemirror_mode": {
    "name": "ipython",
    "version": 3
   },
   "file_extension": ".py",
   "mimetype": "text/x-python",
   "name": "python",
   "nbconvert_exporter": "python",
   "pygments_lexer": "ipython3",
   "version": "3.8.3"
  }
 },
 "nbformat": 4,
 "nbformat_minor": 4
}
