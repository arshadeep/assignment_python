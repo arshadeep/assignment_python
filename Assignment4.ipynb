{
 "cells": [
  {
   "cell_type": "code",
   "execution_count": 4,
   "metadata": {},
   "outputs": [
    {
     "name": "stdout",
     "output_type": "stream",
     "text": [
      "enter three sides of traingle6 8 9\n",
      "Area of the traingle is  23.525252389719434\n"
     ]
    }
   ],
   "source": [
    "class Sides:\n",
    "    def __init__(self):\n",
    "        a,b,c=input(\"enter three sides of traingle\").split()\n",
    "        self._side1=a\n",
    "        self._side2=b\n",
    "        self._side3=c\n",
    "\n",
    "    \n",
    "class Area(Sides):#inheriting the Sides class\n",
    "    def __init__(self):\n",
    "        super().__init__()#inheriting the init of the super class\n",
    "    \n",
    "    \n",
    "    def area(self):\n",
    "        sp=(int(self._side1)+int(self._side2)+int(self._side3))/2\n",
    "        return float((sp*(sp-int(self._side1))*(sp-int(self._side2))*(sp-int(self._side3))) ** 0.5)\n",
    "        \n",
    "a=Area()#it will inherit the Side class's self using super\n",
    "\n",
    "print(\"Area of the traingle is \",a.area())\n",
    "\n"
   ]
  },
  {
   "cell_type": "code",
   "execution_count": 5,
   "metadata": {},
   "outputs": [
    {
     "name": "stdout",
     "output_type": "stream",
     "text": [
      "['ball', 'wood']\n"
     ]
    }
   ],
   "source": [
    "def filter_long_words(words,n):\n",
    "    long_words=[]\n",
    "    for i in words:\n",
    "        if(len(i)>n):\n",
    "            long_words.append(i)\n",
    "    return long_words\n",
    "        \n",
    "words=[\"ball\",\"bat\",\"mat\",\"rat\",\"wood\"]\n",
    "print(filter_long_words(words,3))\n",
    "    "
   ]
  },
  {
   "cell_type": "code",
   "execution_count": 6,
   "metadata": {},
   "outputs": [
    {
     "name": "stdout",
     "output_type": "stream",
     "text": [
      "[2, 3, 3]\n"
     ]
    }
   ],
   "source": [
    "def length_of_words(words):\n",
    "    leng=[]\n",
    "    for i in words:\n",
    "        leng.append(len(i))\n",
    "    return leng\n",
    "words=[\"hi\",\"bye\",\"rat\"]\n",
    "print(length_of_words(words))"
   ]
  },
  {
   "cell_type": "code",
   "execution_count": 7,
   "metadata": {},
   "outputs": [
    {
     "data": {
      "text/plain": [
       "True"
      ]
     },
     "execution_count": 7,
     "metadata": {},
     "output_type": "execute_result"
    }
   ],
   "source": [
    "def check_vowel(char):\n",
    "    vow=['a','e','i','o','u']\n",
    "    if char in vow:\n",
    "        return True\n",
    "    else:\n",
    "        return False\n",
    "check_vowel('a')"
   ]
  },
  {
   "cell_type": "code",
   "execution_count": null,
   "metadata": {},
   "outputs": [],
   "source": [
    "print(5)"
   ]
  },
  {
   "cell_type": "code",
   "execution_count": null,
   "metadata": {},
   "outputs": [],
   "source": []
  },
  {
   "cell_type": "code",
   "execution_count": null,
   "metadata": {},
   "outputs": [],
   "source": []
  },
  {
   "cell_type": "code",
   "execution_count": null,
   "metadata": {},
   "outputs": [],
   "source": []
  },
  {
   "cell_type": "code",
   "execution_count": null,
   "metadata": {},
   "outputs": [],
   "source": []
  }
 ],
 "metadata": {
  "kernelspec": {
   "display_name": "Python 3",
   "language": "python",
   "name": "python3"
  },
  "language_info": {
   "codemirror_mode": {
    "name": "ipython",
    "version": 3
   },
   "file_extension": ".py",
   "mimetype": "text/x-python",
   "name": "python",
   "nbconvert_exporter": "python",
   "pygments_lexer": "ipython3",
   "version": "3.8.3"
  }
 },
 "nbformat": 4,
 "nbformat_minor": 4
}
